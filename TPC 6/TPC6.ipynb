{
 "cells": [
  {
   "cell_type": "code",
   "execution_count": 1,
   "metadata": {},
   "outputs": [],
   "source": [
    "import aula6\n",
    "\n",
    "obras = aula6.lerObras(\"obras.csv\")"
   ]
  },
  {
   "cell_type": "code",
   "execution_count": 2,
   "metadata": {},
   "outputs": [],
   "source": [
    "\n",
    "def exercicio():\n",
    "    option = 1\n",
    "    while option != 0:\n",
    "        option = aula6.menu()\n",
    "        if option == 1:\n",
    "            print(\"O número de obras é:\", aula6.contaObras(obras))\n",
    "        if option == 2:\n",
    "            aula6.imprimeObras(obras)\n",
    "        if option == 3:\n",
    "            aula6.ordenaAlfabet(obras)\n",
    "        if option == 4:\n",
    "            aula6.ordenaCrescente(obras)\n",
    "        if option == 5:\n",
    "            aula6.compositores(obras)\n",
    "        if option == 6:\n",
    "            aula6.distribPeriodo(obras)\n",
    "        if option == 7:\n",
    "            aula6.distribAno(obras)\n",
    "        if option == 8:\n",
    "            aula6.distribCompositor(obras)\n",
    "    print(\"Saiu do programa.\")"
   ]
  },
  {
   "cell_type": "code",
   "execution_count": 3,
   "metadata": {},
   "outputs": [
    {
     "name": "stdout",
     "output_type": "stream",
     "text": [
      "(1) Número de obras\n",
      "(2) Informações sobre a obra\n",
      "(3) Ordenar alfabeticamente os titulos das obras\n",
      "(4) Ordenar crescentemente os anos das obras\n",
      "(5) Compositores\n",
      "(6) Distribuição das obras por período\n",
      "(7) Distribuição das obras por ano\n",
      "(8) Distribuição das obras por compositor\n",
      "(0) Sair\n",
      "O número de obras é: 174\n",
      "(1) Número de obras\n",
      "(2) Informações sobre a obra\n",
      "(3) Ordenar alfabeticamente os titulos das obras\n",
      "(4) Ordenar crescentemente os anos das obras\n",
      "(5) Compositores\n",
      "(6) Distribuição das obras por período\n",
      "(7) Distribuição das obras por ano\n",
      "(8) Distribuição das obras por compositor\n",
      "(0) Sair\n"
     ]
    },
    {
     "ename": "ValueError",
     "evalue": "invalid literal for int() with base 10: ''",
     "output_type": "error",
     "traceback": [
      "\u001b[1;31m---------------------------------------------------------------------------\u001b[0m",
      "\u001b[1;31mValueError\u001b[0m                                Traceback (most recent call last)",
      "Cell \u001b[1;32mIn [3], line 1\u001b[0m\n\u001b[1;32m----> 1\u001b[0m exercicio()\n",
      "Cell \u001b[1;32mIn [2], line 4\u001b[0m, in \u001b[0;36mexercicio\u001b[1;34m()\u001b[0m\n\u001b[0;32m      2\u001b[0m option \u001b[39m=\u001b[39m \u001b[39m1\u001b[39m\n\u001b[0;32m      3\u001b[0m \u001b[39mwhile\u001b[39;00m option \u001b[39m!=\u001b[39m \u001b[39m0\u001b[39m:\n\u001b[1;32m----> 4\u001b[0m     option \u001b[39m=\u001b[39m aula6\u001b[39m.\u001b[39;49mmenu()\n\u001b[0;32m      5\u001b[0m     \u001b[39mif\u001b[39;00m option \u001b[39m==\u001b[39m \u001b[39m1\u001b[39m:\n\u001b[0;32m      6\u001b[0m         \u001b[39mprint\u001b[39m(\u001b[39m\"\u001b[39m\u001b[39mO número de obras é:\u001b[39m\u001b[39m\"\u001b[39m, aula6\u001b[39m.\u001b[39mcontaObras(obras))\n",
      "File \u001b[1;32mc:\\Users\\Clara Gonçalves\\Desktop\\Universidade\\2ºANO\\1º Semestre\\Algoritmos e Técnicas de Programação\\Folders\\Folder3 ATP\\aula6.py:99\u001b[0m, in \u001b[0;36mmenu\u001b[1;34m()\u001b[0m\n\u001b[0;32m     97\u001b[0m \u001b[39mprint\u001b[39m(\u001b[39m\"\u001b[39m\u001b[39m(8) Distribuição das obras por compositor\u001b[39m\u001b[39m\"\u001b[39m)\n\u001b[0;32m     98\u001b[0m \u001b[39mprint\u001b[39m(\u001b[39m\"\u001b[39m\u001b[39m(0) Sair\u001b[39m\u001b[39m\"\u001b[39m)\n\u001b[1;32m---> 99\u001b[0m \u001b[39mreturn\u001b[39;00m \u001b[39mint\u001b[39;49m(\u001b[39minput\u001b[39;49m(\u001b[39m\"\u001b[39;49m\u001b[39mEscolhe as opções possíveis.\u001b[39;49m\u001b[39m\"\u001b[39;49m))\n",
      "\u001b[1;31mValueError\u001b[0m: invalid literal for int() with base 10: ''"
     ]
    }
   ],
   "source": [
    "exercicio()"
   ]
  },
  {
   "cell_type": "code",
   "execution_count": null,
   "metadata": {},
   "outputs": [],
   "source": []
  }
 ],
 "metadata": {
  "kernelspec": {
   "display_name": "Python 3.10.7 64-bit",
   "language": "python",
   "name": "python3"
  },
  "language_info": {
   "codemirror_mode": {
    "name": "ipython",
    "version": 3
   },
   "file_extension": ".py",
   "mimetype": "text/x-python",
   "name": "python",
   "nbconvert_exporter": "python",
   "pygments_lexer": "ipython3",
   "version": "3.10.7"
  },
  "orig_nbformat": 4,
  "vscode": {
   "interpreter": {
    "hash": "34562c8dd126f703cab6631b199fc854d910ec2c4635bc713e7fc4a3b4dc1bf4"
   }
  }
 },
 "nbformat": 4,
 "nbformat_minor": 2
}
