{
 "cells": [
  {
   "cell_type": "markdown",
   "id": "1e545158",
   "metadata": {},
   "source": [
    "# Aula Prática 2 (guião)\n",
    "### Semana de 26 a 30 de Setembro de 2022\n",
    "### José Carlos Ramalho e Luís Cunha\n",
    "### Sinopsis:\n",
    "Algoritmos de cálculo numérico envolvendo estruturas condicionais (if-elif-else) e cíclicas (while)."
   ]
  },
  {
   "cell_type": "markdown",
   "id": "81703f1b",
   "metadata": {},
   "source": [
    "### TPC2: Adivinha o número\n",
    "- Crie um programa em Python para jogar o jogo \"Adivinha o número\":\n",
    "    - O jogo pode ter 2 modalidades: computador pensa num número (entre 0 e 100), utilizador tenta adivinhar; ou, o utilizador pensa num número (entre 0 e 100) e o computador tenta adivinhar;\n",
    "    - Quem tenta adivinhar responde com uma das afirmações: \"Acertou\", \"O número que pensei é Maior\" ou \"O número que pensei é Menor\";\n",
    "    - Uma vez descoberto o número o programa deverá terminar imprimindo o número de tentativas que quem adivinhou usou para chegar ao resultado.\n",
    "    "
   ]
  },
  {
   "cell_type": "code",
   "execution_count": null,
   "id": "0b53a869",
   "metadata": {},
   "outputs": [],
   "source": [
    "# Adivinha o Número\n",
    "# Modalidade 1 = computador pensa num número (entre 0 e 100) e o utilizador tenta adivinhar.\n",
    "# número = número escolhido pelo computador.\n",
    "# palpite = número escolhido pelo utilizador\n",
    "\n",
    "número = 55  \n",
    "\n",
    "print (\"Escolhe um número entre 0 e 100.\")\n",
    "palpite = int(input(\"Escolhe um número entre 0 e 100.\"))\n",
    "print (\"Escolheste o número:\", palpite)\n",
    "\n",
    "if palpite > 100:\n",
    "    print (\"O teu número é inválido. Escolhe um número entre 0 e 100.\")\n",
    "if palpite < 0:\n",
    "    print (\"O teu número é inválido. Escolhe um número entre 0 e 100.\")\n",
    "\n",
    "if palpite > número:\n",
    "        print (\"O número que pensei é Menor.\")\n",
    "if palpite < número:\n",
    "        print (\"O número que pensei é Maior.\")\n",
    "if palpite == número:\n",
    "        print (\"Acertou.\")\n",
    "\n",
    "\n",
    "while palpite != número:\n",
    "    print (\"Escolhe um número entre 0 e 100.\") \n",
    "    palpite = int(input(\"Escolhe um número entre 0 e 100.\")) \n",
    "    print (\"Escolheste o número:\", palpite) \n",
    "    \n",
    "    if palpite > 100:\n",
    "        print (\"O teu número é inválido. Escolhe um número entre 0 e 100.\")\n",
    "    if palpite < 0:\n",
    "        print (\"O teu número é inválido. Escolhe um número entre 0 e 100.\")\n",
    "\n",
    "    if palpite > número:\n",
    "        print (\"O número que pensei é Menor.\")\n",
    "    if palpite < número:\n",
    "        print (\"O número que pensei é Maior.\")\n",
    "    if palpite == número:\n",
    "        print (\"Acertou.\")\n",
    "    \n"
   ]
  },
  {
   "cell_type": "code",
   "execution_count": null,
   "id": "cb481619",
   "metadata": {},
   "outputs": [],
   "source": [
    "# Adivinha o Número\n",
    "# Modalidade 2 = Utilizador pensa num número (entre 0 e 100) e o computador tenta adivinhar. \n",
    "# palpite3 = número escolhido pelo computador.\n",
    "\n",
    "import random\n",
    "\n",
    "tentativas = 1\n",
    "limiteinferior = 1\n",
    "limitesuperior = 100\n",
    "palpite3 = random.randrange (limiteinferior,limitesuperior)\n",
    "palpite3 = str(palpite3)\n",
    "print (\"Será que é o número \" + palpite3 + \"?\")\n",
    "palpite3 = int(palpite3)\n",
    "\n",
    "resposta = input(\"O número é maior ou menor?\")\n",
    "while resposta != \"Acertou.\":\n",
    "    if resposta == \"O número é maior.\":\n",
    "        limiteinferior = palpite3 + 1\n",
    "    else: \n",
    "        limiteinferior = limiteinferior\n",
    "    if resposta == \"O número é menor.\":\n",
    "        limitesuperior = palpite3\n",
    "    else: \n",
    "        limitesuperior = limitesuperior\n",
    "    \n",
    "    tentativas += 1\n",
    "    palpite3 = random.randrange (limiteinferior,limitesuperior)\n",
    "    palpite3 = str(palpite3)\n",
    "    print (\"Será que é o número \" + palpite3 + \"?\")\n",
    "    palpite3 = int(palpite3)\n",
    "    resposta = input(\"O número é maior ou menor?\")\n",
    "\n",
    "palpite3 = str(palpite3)\n",
    "tentativas = str(tentativas)\n",
    "\n",
    "print (\"Acertei.\")\n",
    "if tentativas == \"1\":\n",
    "    print (\"Necessitei de\" + tentativas + \"tentativas para acertar o número\" + palpite3 )\n",
    "else: \n",
    "    print (\"Necessitei de\" + tentativas + \"tentativas para acertar o número\" + palpite3 )"
   ]
  }
 ],
 "metadata": {
  "kernelspec": {
   "display_name": "Python 3.10.7 64-bit (system)",
   "language": "python",
   "name": "python3"
  },
  "language_info": {
   "codemirror_mode": {
    "name": "ipython",
    "version": 3
   },
   "file_extension": ".py",
   "mimetype": "text/x-python",
   "name": "python",
   "nbconvert_exporter": "python",
   "pygments_lexer": "ipython3",
   "version": "3.10.7"
  },
  "vscode": {
   "interpreter": {
    "hash": "34562c8dd126f703cab6631b199fc854d910ec2c4635bc713e7fc4a3b4dc1bf4"
   }
  }
 },
 "nbformat": 4,
 "nbformat_minor": 5
}
