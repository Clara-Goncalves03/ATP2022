{
 "cells": [
  {
   "cell_type": "markdown",
   "id": "1e545158",
   "metadata": {},
   "source": [
    "# Aula Prática 2 (guião)\n",
    "### Semana de 26 a 30 de Setembro de 2022\n",
    "### José Carlos Ramalho e Luís Cunha\n",
    "### Sinopsis:\n",
    "Algoritmos de cálculo numérico envolvendo estruturas condicionais (if-elif-else) e cíclicas (while)."
   ]
  },
  {
   "cell_type": "markdown",
   "id": "81703f1b",
   "metadata": {},
   "source": [
    "### TPC2: Adivinha o número\n",
    "- Crie um programa em Python para jogar o jogo \"Adivinha o número\":\n",
    "    - O jogo pode ter 2 modalidades: computador pensa num número (entre 0 e 100), utilizador tenta adivinhar; ou, o utilizador pensa num número (entre 0 e 100) e o computador tenta adivinhar;\n",
    "    - Quem tenta adivinhar responde com uma das afirmações: \"Acertou\", \"O número que pensei é Maior\" ou \"O número que pensei é Menor\";\n",
    "    - Uma vez descoberto o número o programa deverá terminar imprimindo o número de tentativas que quem adivinhou usou para chegar ao resultado.\n",
    "    "
   ]
  },
  {
   "cell_type": "code",
   "execution_count": 1,
   "id": "0b53a869",
   "metadata": {},
   "outputs": [
    {
     "name": "stdout",
     "output_type": "stream",
     "text": [
      "Escolhe um número entre 0 e 100.\n",
      "Escolheste o número: 1\n",
      "O número que pensei é Maior.\n",
      "Escolhe um número entre 0 e 100.\n",
      "Escolheste o número: 2\n",
      "O número que pensei é Maior.\n",
      "Escolhe um número entre 0 e 100.\n",
      "Escolheste o número: 3\n",
      "O número que pensei é Maior.\n",
      "Escolhe um número entre 0 e 100.\n",
      "Escolheste o número: 21\n",
      "O número que pensei é Maior.\n",
      "Escolhe um número entre 0 e 100.\n",
      "Escolheste o número: 36\n",
      "O número que pensei é Maior.\n",
      "Escolhe um número entre 0 e 100.\n",
      "Escolheste o número: 53\n",
      "O número que pensei é Maior.\n",
      "Escolhe um número entre 0 e 100.\n",
      "Escolheste o número: 73\n",
      "O número que pensei é Maior.\n",
      "Escolhe um número entre 0 e 100.\n",
      "Escolheste o número: 83\n",
      "O número que pensei é Maior.\n",
      "Escolhe um número entre 0 e 100.\n",
      "Escolheste o número: 93\n",
      "O número que pensei é Maior.\n",
      "Escolhe um número entre 0 e 100.\n",
      "Escolheste o número: 99\n",
      "O número que pensei é Menor.\n",
      "Escolhe um número entre 0 e 100.\n",
      "Escolheste o número: 97\n",
      "O número que pensei é Menor.\n",
      "Escolhe um número entre 0 e 100.\n",
      "Escolheste o número: 96\n",
      "Acertou.\n"
     ]
    }
   ],
   "source": [
    "# Adivinha o Número\n",
    "# Modalidade 1 = computador pensa num número (entre 0 e 100) e o utilizador tenta adivinhar.\n",
    "# número = número escolhido pelo computador.\n",
    "# palpite = número escolhido pelo utilizador\n",
    "\n",
    "número = 96  \n",
    "\n",
    "print (\"Escolhe um número entre 0 e 100.\")\n",
    "palpite = int(input(\"Escolhe um número entre 0 e 100.\"))\n",
    "print (\"Escolheste o número:\", palpite)\n",
    "\n",
    "if palpite > 100:\n",
    "    print (\"O teu número é inválido. Escolhe um número entre 0 e 100.\")\n",
    "if palpite < 0:\n",
    "    print (\"O teu número é inválido. Escolhe um número entre 0 e 100.\")\n",
    "\n",
    "if palpite > número:\n",
    "        print (\"O número que pensei é Menor.\")\n",
    "if palpite < número:\n",
    "        print (\"O número que pensei é Maior.\")\n",
    "if palpite == número:\n",
    "        print (\"Acertou.\")\n",
    "\n",
    "\n",
    "while palpite != número:\n",
    "    print (\"Escolhe um número entre 0 e 100.\") \n",
    "    palpite = int(input(\"Escolhe um número entre 0 e 100.\")) \n",
    "    print (\"Escolheste o número:\", palpite) \n",
    "    \n",
    "    if palpite > 100:\n",
    "        print (\"O teu número é inválido. Escolhe um número entre 0 e 100.\")\n",
    "    if palpite < 0:\n",
    "        print (\"O teu número é inválido. Escolhe um número entre 0 e 100.\")\n",
    "\n",
    "    if palpite > número:\n",
    "        print (\"O número que pensei é Menor.\")\n",
    "    if palpite < número:\n",
    "        print (\"O número que pensei é Maior.\")\n",
    "    if palpite == número:\n",
    "        print (\"Acertou.\")\n",
    "    \n"
   ]
  },
  {
   "cell_type": "code",
   "execution_count": 2,
   "id": "cb481619",
   "metadata": {},
   "outputs": [
    {
     "name": "stdout",
     "output_type": "stream",
     "text": [
      "Será que é o número 80?\n",
      "Será que é o número 22?\n",
      "Será que é o número 6?\n",
      "Será que é o número 3?\n",
      "Será que é o número 2?\n",
      "Será que é o número 1?\n",
      "Será que é o número 1?\n"
     ]
    },
    {
     "ename": "ValueError",
     "evalue": "empty range for randrange() (1, 1, 0)",
     "output_type": "error",
     "traceback": [
      "\u001b[1;31m---------------------------------------------------------------------------\u001b[0m",
      "\u001b[1;31mValueError\u001b[0m                                Traceback (most recent call last)",
      "Cell \u001b[1;32mIn [2], line 27\u001b[0m\n\u001b[0;32m     24\u001b[0m     limitesuperior \u001b[38;5;241m=\u001b[39m limitesuperior\n\u001b[0;32m     26\u001b[0m tentativas \u001b[38;5;241m+\u001b[39m\u001b[38;5;241m=\u001b[39m \u001b[38;5;241m1\u001b[39m\n\u001b[1;32m---> 27\u001b[0m palpite3 \u001b[38;5;241m=\u001b[39m \u001b[43mrandom\u001b[49m\u001b[38;5;241;43m.\u001b[39;49m\u001b[43mrandrange\u001b[49m\u001b[43m \u001b[49m\u001b[43m(\u001b[49m\u001b[43mlimiteinferior\u001b[49m\u001b[43m,\u001b[49m\u001b[43mlimitesuperior\u001b[49m\u001b[43m)\u001b[49m\n\u001b[0;32m     28\u001b[0m palpite3 \u001b[38;5;241m=\u001b[39m \u001b[38;5;28mstr\u001b[39m(palpite3)\n\u001b[0;32m     29\u001b[0m \u001b[38;5;28mprint\u001b[39m (\u001b[38;5;124m\"\u001b[39m\u001b[38;5;124mSerá que é o número \u001b[39m\u001b[38;5;124m\"\u001b[39m \u001b[38;5;241m+\u001b[39m palpite3 \u001b[38;5;241m+\u001b[39m \u001b[38;5;124m\"\u001b[39m\u001b[38;5;124m?\u001b[39m\u001b[38;5;124m\"\u001b[39m)\n",
      "File \u001b[1;32mc:\\Users\\Clara Gonçalves\\AppData\\Local\\Programs\\Python\\Python310\\lib\\random.py:353\u001b[0m, in \u001b[0;36mRandom.randrange\u001b[1;34m(self, start, stop, step)\u001b[0m\n\u001b[0;32m    351\u001b[0m     \u001b[39mif\u001b[39;00m width \u001b[39m>\u001b[39m \u001b[39m0\u001b[39m:\n\u001b[0;32m    352\u001b[0m         \u001b[39mreturn\u001b[39;00m istart \u001b[39m+\u001b[39m \u001b[39mself\u001b[39m\u001b[39m.\u001b[39m_randbelow(width)\n\u001b[1;32m--> 353\u001b[0m     \u001b[39mraise\u001b[39;00m \u001b[39mValueError\u001b[39;00m(\u001b[39m\"\u001b[39m\u001b[39mempty range for randrange() (\u001b[39m\u001b[39m%d\u001b[39;00m\u001b[39m, \u001b[39m\u001b[39m%d\u001b[39;00m\u001b[39m, \u001b[39m\u001b[39m%d\u001b[39;00m\u001b[39m)\u001b[39m\u001b[39m\"\u001b[39m \u001b[39m%\u001b[39m (istart, istop, width))\n\u001b[0;32m    355\u001b[0m \u001b[39m# Non-unit step argument supplied.\u001b[39;00m\n\u001b[0;32m    356\u001b[0m \u001b[39mif\u001b[39;00m istep \u001b[39m>\u001b[39m \u001b[39m0\u001b[39m:\n",
      "\u001b[1;31mValueError\u001b[0m: empty range for randrange() (1, 1, 0)"
     ]
    }
   ],
   "source": [
    "# Adivinha o Número\n",
    "# Modalidade 2 = Utilizador pensa num número (entre 0 e 100) e o computador tenta adivinhar. \n",
    "# palpite3 = número escolhido pelo computador.\n",
    "\n",
    "import random\n",
    "\n",
    "tentativas = 1\n",
    "limiteinferior = 1\n",
    "limitesuperior = 100\n",
    "palpite3 = random.randrange (limiteinferior,limitesuperior)\n",
    "palpite3 = str(palpite3)\n",
    "print (\"Será que é o número \" + palpite3 + \"?\")\n",
    "palpite3 = int(palpite3)\n",
    "\n",
    "resposta = input(\"O número é maior ou menor?\")\n",
    "while resposta != \"Acertou.\":\n",
    "    if resposta == \"O número é maior.\":\n",
    "        limiteinferior = palpite3 + 1\n",
    "    else: \n",
    "        limiteinferior = limiteinferior\n",
    "    if resposta == \"O número é menor.\":\n",
    "        limitesuperior = palpite3\n",
    "    else: \n",
    "        limitesuperior = limitesuperior\n",
    "    \n",
    "    tentativas += 1\n",
    "    palpite3 = random.randrange (limiteinferior,limitesuperior)\n",
    "    palpite3 = str(palpite3)\n",
    "    print (\"Será que é o número \" + palpite3 + \"?\")\n",
    "    palpite3 = int(palpite3)\n",
    "    resposta = input(\"O número é maior ou menor?\")\n",
    "\n",
    "palpite3 = str(palpite3)\n",
    "tentativas = str(tentativas)\n",
    "\n",
    "print (\"Acertei.\")\n",
    "if tentativas == \"1\":\n",
    "    print (\"Necessitei de\" + tentativas + \"tentativas para acertar o número\" + palpite3 )\n",
    "else: \n",
    "    print (\"Necessitei de\" + tentativas + \"tentativas para acertar o número\" + palpite3 )"
   ]
  },
  {
   "cell_type": "code",
   "execution_count": null,
   "id": "2b5b6047",
   "metadata": {},
   "outputs": [],
   "source": []
  }
 ],
 "metadata": {
  "kernelspec": {
   "display_name": "Python 3.10.7 64-bit (system)",
   "language": "python",
   "name": "python3"
  },
  "language_info": {
   "codemirror_mode": {
    "name": "ipython",
    "version": 3
   },
   "file_extension": ".py",
   "mimetype": "text/x-python",
   "name": "python",
   "nbconvert_exporter": "python",
   "pygments_lexer": "ipython3",
   "version": "3.10.7"
  },
  "vscode": {
   "interpreter": {
    "hash": "34562c8dd126f703cab6631b199fc854d910ec2c4635bc713e7fc4a3b4dc1bf4"
   }
  }
 },
 "nbformat": 4,
 "nbformat_minor": 5
}
